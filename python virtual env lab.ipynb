{
  "nbformat": 4,
  "nbformat_minor": 0,
  "metadata": {
    "colab": {
      "provenance": [],
      "authorship_tag": "ABX9TyPyoA4ZXQZFUhNzFYCUgtjX",
      "include_colab_link": true
    },
    "kernelspec": {
      "name": "python3",
      "display_name": "Python 3"
    },
    "language_info": {
      "name": "python"
    }
  },
  "cells": [
    {
      "cell_type": "markdown",
      "metadata": {
        "id": "view-in-github",
        "colab_type": "text"
      },
      "source": [
        "<a href=\"https://colab.research.google.com/github/haseeb1988/DE/blob/master/python%20virtual%20env%20lab.ipynb\" target=\"_parent\"><img src=\"https://colab.research.google.com/assets/colab-badge.svg\" alt=\"Open In Colab\"/></a>"
      ]
    },
    {
      "cell_type": "code",
      "source": [
        "# Path and version numbers for python depend on operating system\n",
        "# Use ! to run the command in the terminal\n",
        "# lets check the python version\n",
        "!which python\n",
        "!python --version"
      ],
      "metadata": {
        "colab": {
          "base_uri": "https://localhost:8080/"
        },
        "id": "vkKKRpMp3LTq",
        "outputId": "6ac1fb40-d373-437e-d730-1a338e1a407e"
      },
      "execution_count": 15,
      "outputs": [
        {
          "output_type": "stream",
          "name": "stdout",
          "text": [
            "/usr/local/bin/python\n",
            "Python 3.11.11\n"
          ]
        }
      ]
    },
    {
      "cell_type": "markdown",
      "source": [],
      "metadata": {
        "id": "mcSXBSrW45Nt"
      }
    },
    {
      "cell_type": "code",
      "source": [
        "# unset PYTHONPATH\n",
        "%env PYTHONPATH="
      ],
      "metadata": {
        "colab": {
          "base_uri": "https://localhost:8080/"
        },
        "id": "0QJSMLdh3mUz",
        "outputId": "a076496c-b36d-4085-f5bb-50c33846b39b"
      },
      "execution_count": 20,
      "outputs": [
        {
          "output_type": "stream",
          "name": "stdout",
          "text": [
            "env: PYTHONPATH=\n"
          ]
        }
      ]
    },
    {
      "cell_type": "markdown",
      "source": [
        "The above line is using a Jupyter Notebook magic command, specifically %env.\n",
        "\n",
        "- %env: This magic command is used to get, set, or list environment variables. Environment variables are values that affect the way running processes behave on a computer.\n",
        "\n",
        "- PYTHONPATH: This is a specific environment variable that tells Python where to look for modules or packages when you import them in your code. It's essentially a list of directories where Python will search for your code.\n",
        "\n",
        "- =: The equals sign is used to assign a value to the environment variable. In this case, by setting PYTHONPATH to nothing (empty value), we're effectively clearing the PYTHONPATH environment variable. This means Python will only search in its default locations and the current working directory for imported modules.\n",
        "\n",
        "In simpler terms: This line of code resets the places Python looks for your code libraries to the default settings. This can be useful for ensuring your notebook uses the intended versions of libraries, avoiding conflicts."
      ],
      "metadata": {
        "id": "R-7GX71b474A"
      }
    },
    {
      "cell_type": "markdown",
      "source": [
        "### **Install virtualenv:** If it's not already installed, run the following command in a Colab cell:"
      ],
      "metadata": {
        "id": "SFdKXuGQ5POG"
      }
    },
    {
      "cell_type": "code",
      "execution_count": 3,
      "metadata": {
        "colab": {
          "base_uri": "https://localhost:8080/"
        },
        "id": "j8yvkoLo1KHb",
        "outputId": "4229a6d0-58eb-4a8b-a149-adbe0f2ad185"
      },
      "outputs": [
        {
          "output_type": "stream",
          "name": "stdout",
          "text": [
            "Collecting virtualenv\n",
            "  Downloading virtualenv-20.29.1-py3-none-any.whl.metadata (4.5 kB)\n",
            "Collecting distlib<1,>=0.3.7 (from virtualenv)\n",
            "  Downloading distlib-0.3.9-py2.py3-none-any.whl.metadata (5.2 kB)\n",
            "Requirement already satisfied: filelock<4,>=3.12.2 in /usr/local/lib/python3.11/dist-packages (from virtualenv) (3.17.0)\n",
            "Requirement already satisfied: platformdirs<5,>=3.9.1 in /usr/local/lib/python3.11/dist-packages (from virtualenv) (4.3.6)\n",
            "Downloading virtualenv-20.29.1-py3-none-any.whl (4.3 MB)\n",
            "\u001b[2K   \u001b[90m━━━━━━━━━━━━━━━━━━━━━━━━━━━━━━━━━━━━━━━━\u001b[0m \u001b[32m4.3/4.3 MB\u001b[0m \u001b[31m35.1 MB/s\u001b[0m eta \u001b[36m0:00:00\u001b[0m\n",
            "\u001b[?25hDownloading distlib-0.3.9-py2.py3-none-any.whl (468 kB)\n",
            "\u001b[2K   \u001b[90m━━━━━━━━━━━━━━━━━━━━━━━━━━━━━━━━━━━━━━━━\u001b[0m \u001b[32m469.0/469.0 kB\u001b[0m \u001b[31m31.0 MB/s\u001b[0m eta \u001b[36m0:00:00\u001b[0m\n",
            "\u001b[?25hInstalling collected packages: distlib, virtualenv\n",
            "Successfully installed distlib-0.3.9 virtualenv-20.29.1\n"
          ]
        }
      ],
      "source": [
        "# install virtualenv\n",
        "!pip install virtualenv"
      ]
    },
    {
      "cell_type": "markdown",
      "source": [
        "### **Create the virtual environment**: Use the following command, you can replacing \"myenv\" with your desired environment name:"
      ],
      "metadata": {
        "id": "utN-0xjF5idg"
      }
    },
    {
      "cell_type": "code",
      "source": [
        "# create a virtual environment named myenv\n",
        "!virtualenv myenv"
      ],
      "metadata": {
        "colab": {
          "base_uri": "https://localhost:8080/"
        },
        "id": "Ymdq4eiZ2IG4",
        "outputId": "ac27fa23-5d4a-4d98-ca05-128a5320cc1d"
      },
      "execution_count": 4,
      "outputs": [
        {
          "output_type": "stream",
          "name": "stdout",
          "text": [
            "created virtual environment CPython3.11.11.final.0-64 in 1708ms\n",
            "  creator CPython3Posix(dest=/content/myenv, clear=False, no_vcs_ignore=False, global=False)\n",
            "  seeder FromAppData(download=False, pip=bundle, setuptools=bundle, wheel=bundle, via=copy, app_data_dir=/root/.local/share/virtualenv)\n",
            "    added seed packages: pip==24.3.1, setuptools==75.8.0, wheel==0.45.1\n",
            "  activators BashActivator,CShellActivator,FishActivator,NushellActivator,PowerShellActivator,PythonActivator\n"
          ]
        }
      ]
    },
    {
      "cell_type": "markdown",
      "source": [
        "### **Activate the virtual environment:** Activate it using the following command:"
      ],
      "metadata": {
        "id": "6He-exIi5ukw"
      }
    },
    {
      "cell_type": "code",
      "source": [
        "!source myenv/bin/activate\n"
      ],
      "metadata": {
        "id": "SyOfNse62bjZ"
      },
      "execution_count": 5,
      "outputs": []
    }
  ]
}